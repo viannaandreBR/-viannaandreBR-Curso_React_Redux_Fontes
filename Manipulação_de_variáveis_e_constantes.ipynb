{
  "nbformat": 4,
  "nbformat_minor": 0,
  "metadata": {
    "colab": {
      "name": "Manipulação de variáveis e constantes.ipynb",
      "provenance": [],
      "collapsed_sections": [],
      "include_colab_link": true
    },
    "kernelspec": {
      "name": "python3",
      "display_name": "Python 3"
    }
  },
  "cells": [
    {
      "cell_type": "markdown",
      "metadata": {
        "id": "view-in-github",
        "colab_type": "text"
      },
      "source": [
        "<a href=\"https://colab.research.google.com/github/viannaandreBR/-viannaandreBR-Curso_React_Redux_Fontes/blob/master/Manipula%C3%A7%C3%A3o_de_vari%C3%A1veis_e_constantes.ipynb\" target=\"_parent\"><img src=\"https://colab.research.google.com/assets/colab-badge.svg\" alt=\"Open In Colab\"/></a>"
      ]
    },
    {
      "cell_type": "markdown",
      "metadata": {
        "id": "V8QjcFa6R5y2"
      },
      "source": [
        "# Manipulação de variáveis e constantes"
      ]
    },
    {
      "cell_type": "markdown",
      "metadata": {
        "id": "vpSo8ozVTLCo"
      },
      "source": [
        "## Variáveis e constantes\n",
        "\n",
        "- Por meio de variáveis que um algortimo “guarda” os dados do problema\n",
        "- Todo dado que tem a possibilidade de ser alterado no decorrer do tempo deverá ser tratado como uma variável\n",
        "- Quando um dado não tem nenhuma possibilidade de variar no decorrer do tempo, deverá ser tratado como constante\n",
        "\n",
        "Exemplo: calcular a área de um triângulo. Sabemos que a fórmula para o cálculo da área de um triângulo é BASE * ALTURA / 2. **Base** e **altura** são dados que irão variar no decorrer do “tempo de execução”. O número 2 da fórmula é um dado constante, pois sempre terá o mesmo valor\n",
        "\n",
        "## Tipo de variáveis\n",
        "\n",
        "- Inteiros: valores positivos ou negativos, que não possuem uma parte fracionária. Exemplos: 1, 30, 40, 12, -50\n",
        "- Float (real): valores positivos ou negativos, que podem possuir uma parte fracionária (também podem ser inteiros). Exemplos: 1.4, 6.7, 10.3, 100, -47\n",
        "- Caracteres (char ou string): qualquer elemento presente no teclado. Exemplos: “Maria”, “João”, ‘M’, ‘F’\n",
        "- Lógico (boleano): verdadeiro ou falso. Exemplos: true, false, 1, 0"
      ]
    },
    {
      "cell_type": "markdown",
      "metadata": {
        "id": "dJuQ83faR_Pc"
      },
      "source": [
        "## Variáveis inteiras"
      ]
    },
    {
      "cell_type": "code",
      "metadata": {
        "id": "AlNS5Ngsm_dB"
      },
      "source": [
        "numero = -3\n",
        "numero_jogos = 14\n",
        "numero_convidados = 15"
      ],
      "execution_count": 1,
      "outputs": []
    },
    {
      "cell_type": "code",
      "metadata": {
        "id": "h11ASYEknOD1",
        "colab": {
          "base_uri": "https://localhost:8080/"
        },
        "outputId": "63ebcd63-b2b9-4ca8-ab68-d18d69aa7cf8"
      },
      "source": [
        "numero"
      ],
      "execution_count": 2,
      "outputs": [
        {
          "output_type": "execute_result",
          "data": {
            "text/plain": [
              "-3"
            ]
          },
          "metadata": {},
          "execution_count": 2
        }
      ]
    },
    {
      "cell_type": "code",
      "metadata": {
        "id": "c8kmjtIinQNi",
        "colab": {
          "base_uri": "https://localhost:8080/"
        },
        "outputId": "40f1eaa2-0e46-48d1-dbc9-22bf067f92c7"
      },
      "source": [
        "print(numero)"
      ],
      "execution_count": 3,
      "outputs": [
        {
          "output_type": "stream",
          "name": "stdout",
          "text": [
            "-3\n"
          ]
        }
      ]
    },
    {
      "cell_type": "code",
      "metadata": {
        "id": "KP0Wt0yynY7b",
        "colab": {
          "base_uri": "https://localhost:8080/"
        },
        "outputId": "2c7ede11-b631-4b67-d63d-48a938c1a4dc"
      },
      "source": [
        "print(numero, numero_convidados)"
      ],
      "execution_count": 4,
      "outputs": [
        {
          "output_type": "stream",
          "name": "stdout",
          "text": [
            "-3 15\n"
          ]
        }
      ]
    },
    {
      "cell_type": "markdown",
      "metadata": {
        "id": "JhCsz7fBSQ8E"
      },
      "source": [
        "## Variáveis float (ponto flutuante)"
      ]
    },
    {
      "cell_type": "code",
      "metadata": {
        "id": "wNQq80punev_"
      },
      "source": [
        "pi = 3.14\n",
        "numero_euler = 2.71\n",
        "escala_terremoto = -4.55"
      ],
      "execution_count": 5,
      "outputs": []
    },
    {
      "cell_type": "code",
      "metadata": {
        "id": "yusfNXQ2nmCv",
        "colab": {
          "base_uri": "https://localhost:8080/"
        },
        "outputId": "bbb94b82-2078-4ca8-96ae-56a9616ae83f"
      },
      "source": [
        "print(pi)\n",
        "print(numero_euler)\n",
        "print(escala_terremoto)"
      ],
      "execution_count": 6,
      "outputs": [
        {
          "output_type": "stream",
          "name": "stdout",
          "text": [
            "3.14\n",
            "2.71\n",
            "-4.55\n"
          ]
        }
      ]
    },
    {
      "cell_type": "markdown",
      "metadata": {
        "id": "fCiZKeOFSwig"
      },
      "source": [
        "## Strings e chars"
      ]
    },
    {
      "cell_type": "code",
      "metadata": {
        "id": "yvccp63ZnvEZ"
      },
      "source": [
        "letra = 'a'\n",
        "palavra1 = 'linguagem de programação'\n",
        "palavra2 = 'Java Script'"
      ],
      "execution_count": 11,
      "outputs": []
    },
    {
      "cell_type": "code",
      "metadata": {
        "id": "AwZul8K-n3L-",
        "colab": {
          "base_uri": "https://localhost:8080/"
        },
        "outputId": "45049b12-48e2-419f-d57a-cc20c4ed0787"
      },
      "source": [
        "print(letra, palavra1)"
      ],
      "execution_count": 12,
      "outputs": [
        {
          "output_type": "stream",
          "name": "stdout",
          "text": [
            "a linguagem de programação\n"
          ]
        }
      ]
    },
    {
      "cell_type": "code",
      "metadata": {
        "id": "DnEKLamYn7Vw",
        "colab": {
          "base_uri": "https://localhost:8080/"
        },
        "outputId": "67cb7479-a588-45ed-ff72-692931c22c34"
      },
      "source": [
        "print('Estou aprendendo uma', palavra1)"
      ],
      "execution_count": 13,
      "outputs": [
        {
          "output_type": "stream",
          "name": "stdout",
          "text": [
            "Estou aprendendo uma linguagem de programação\n"
          ]
        }
      ]
    },
    {
      "cell_type": "code",
      "metadata": {
        "id": "07uhcWXEoGHs",
        "colab": {
          "base_uri": "https://localhost:8080/"
        },
        "outputId": "3df000aa-b3d9-4e5d-8148-404e1eb11370"
      },
      "source": [
        "print('Esta', palavra1, 'se chama', palavra2)"
      ],
      "execution_count": 14,
      "outputs": [
        {
          "output_type": "stream",
          "name": "stdout",
          "text": [
            "Esta linguagem de programação se chama Java Script\n"
          ]
        }
      ]
    },
    {
      "cell_type": "code",
      "metadata": {
        "id": "QbO7XNY3oQKk",
        "colab": {
          "base_uri": "https://localhost:8080/",
          "height": 50
        },
        "outputId": "efaf6847-684f-4aa7-f9d3-482e65202fda"
      },
      "source": [
        "idade = int(input('Digite sua idade:'))\n",
        "print('Sua idade é ', idade)"
      ],
      "execution_count": null,
      "outputs": [
        {
          "output_type": "stream",
          "text": [
            "Digite sua idade:21\n",
            "Sua idade é  21\n"
          ],
          "name": "stdout"
        }
      ]
    },
    {
      "cell_type": "code",
      "metadata": {
        "id": "4Bmhcm_sogXZ",
        "colab": {
          "base_uri": "https://localhost:8080/",
          "height": 50
        },
        "outputId": "63336622-46d6-4314-adbd-4b0c709ba4a7"
      },
      "source": [
        "pH = float(input('Qual o pH do solo durante a última medição?'))\n",
        "print('O pH medido foi ', pH)"
      ],
      "execution_count": null,
      "outputs": [
        {
          "output_type": "stream",
          "text": [
            "Qual o pH do solo durante a última medição?2.5\n",
            "O pH medido foi  2.5\n"
          ],
          "name": "stdout"
        }
      ]
    },
    {
      "cell_type": "code",
      "metadata": {
        "id": "TWKEPsOHosFh",
        "colab": {
          "base_uri": "https://localhost:8080/",
          "height": 50
        },
        "outputId": "6b8e6a6c-6626-4624-8ca5-ddcaacca1d59"
      },
      "source": [
        "nome = str(input('Qual o seu nome?'))\n",
        "print('Seu nome é', nome)"
      ],
      "execution_count": null,
      "outputs": [
        {
          "output_type": "stream",
          "text": [
            "Qual o seu nome?Jones\n",
            "Seu nome é Jones\n"
          ],
          "name": "stdout"
        }
      ]
    },
    {
      "cell_type": "code",
      "metadata": {
        "id": "WS0kaS_jo5c2",
        "colab": {
          "base_uri": "https://localhost:8080/",
          "height": 34
        },
        "outputId": "705e3741-49c4-419f-9579-159f74f0cd87"
      },
      "source": [
        "idade"
      ],
      "execution_count": null,
      "outputs": [
        {
          "output_type": "execute_result",
          "data": {
            "text/plain": [
              "21"
            ]
          },
          "metadata": {
            "tags": []
          },
          "execution_count": 16
        }
      ]
    }
  ]
}